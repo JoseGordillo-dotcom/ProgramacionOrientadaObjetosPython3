{
  "nbformat": 4,
  "nbformat_minor": 0,
  "metadata": {
    "colab": {
      "provenance": [],
      "authorship_tag": "ABX9TyNWfkADmPj8mL1KlqE8e1bG",
      "include_colab_link": true
    },
    "kernelspec": {
      "name": "python3",
      "display_name": "Python 3"
    },
    "language_info": {
      "name": "python"
    }
  },
  "cells": [
    {
      "cell_type": "markdown",
      "metadata": {
        "id": "view-in-github",
        "colab_type": "text"
      },
      "source": [
        "<a href=\"https://colab.research.google.com/github/JoseGordillo-dotcom/ProgramacionOrientadaObjetosPython3/blob/main/MartesPOO.ipynb\" target=\"_parent\"><img src=\"https://colab.research.google.com/assets/colab-badge.svg\" alt=\"Open In Colab\"/></a>"
      ]
    },
    {
      "cell_type": "code",
      "execution_count": 4,
      "metadata": {
        "id": "XKhNtixD8ZEL"
      },
      "outputs": [],
      "source": [
        "alumno = {'numero_cuenta': 1232322, 'carrera' : 'ICO',\n",
        "            'dirección' : {'calle' : 'rancho seco', 'numero' : 23},\n",
        "            'telefonos' : ['556644455','234324234']\n",
        "}"
      ]
    },
    {
      "cell_type": "code",
      "source": [
        "print(alumno['dirección']['calle'][3:6:1])\n",
        "print(alumno['telefonos'])\n",
        "print(alumno)\n",
        "alumno['facultad'] = \"FES Aragón\"\n",
        "print(alumno)"
      ],
      "metadata": {
        "colab": {
          "base_uri": "https://localhost:8080/"
        },
        "id": "SB6ksI7d9VB9",
        "outputId": "883f2718-d838-4b86-8ff4-5b223f6925a8"
      },
      "execution_count": 6,
      "outputs": [
        {
          "output_type": "stream",
          "name": "stdout",
          "text": [
            "cho\n",
            "['556644455', '234324234']\n",
            "{'numero_cuenta': 1232322, 'carrera': 'ICO', 'dirección': {'calle': 'rancho seco', 'numero': 23}, 'telefonos': ['556644455', '234324234']}\n",
            "{'numero_cuenta': 1232322, 'carrera': 'ICO', 'dirección': {'calle': 'rancho seco', 'numero': 23}, 'telefonos': ['556644455', '234324234'], 'facultad': 'FES Aragón'}\n"
          ]
        }
      ]
    },
    {
      "cell_type": "code",
      "source": [
        "#if\n",
        "edad = 2\n",
        "if edad >= 18:\n",
        "    print(\"Eres mayor de edad.\")\n",
        "    print(\"otra cosa\")\n",
        "    print(\"algo mas\")"
      ],
      "metadata": {
        "id": "oDnB3KBR-tFt"
      },
      "execution_count": 8,
      "outputs": []
    },
    {
      "cell_type": "code",
      "source": [
        "#if\n",
        "edad = 20\n",
        "if edad >= 18:\n",
        "    print(\"Eres mayor de edad.\")\n",
        "    print(\"otra cosa\")\n",
        "    print(\"algo mas\")\n",
        "else:\n",
        "    print('Eres MENOR de edad.')\n",
        "    print(\"otra cosa\")\n",
        "    print(\"algo mas\")"
      ],
      "metadata": {
        "colab": {
          "base_uri": "https://localhost:8080/"
        },
        "id": "WvPJHrWq_Bd8",
        "outputId": "24bff7c0-c08e-4ebc-f11e-f62cfb792f71"
      },
      "execution_count": 12,
      "outputs": [
        {
          "output_type": "stream",
          "name": "stdout",
          "text": [
            "Eres mayor de edad.\n",
            "otra cosa\n",
            "algo mas\n"
          ]
        }
      ]
    },
    {
      "cell_type": "code",
      "source": [
        "# if- elif - else\n",
        "edad = 15\n",
        "if edad < 13:\n",
        "    print(\"Eres un niño.\")\n",
        "elif edad < 18:\n",
        "    print(\"Eres un adolescente.\")\n",
        "else:\n",
        "    print(\"Eres un adulto.\")"
      ],
      "metadata": {
        "colab": {
          "base_uri": "https://localhost:8080/"
        },
        "id": "a2vgql8c_puq",
        "outputId": "ca15413a-b1fb-4c9f-9cb6-5bb55622dc37"
      },
      "execution_count": 14,
      "outputs": [
        {
          "output_type": "stream",
          "name": "stdout",
          "text": [
            "Eres un adolescente.\n"
          ]
        }
      ]
    },
    {
      "cell_type": "code",
      "source": [
        "# if-elif-elif --Seleccion multiple (switch)\n",
        "edad = 20\n",
        "if edad < 13:\n",
        "    print(\"Eres un niño.\")\n",
        "elif edad < 18:\n",
        "    print(\"Eres un adolescente.\")\n",
        "elif edad < 30:\n",
        "    print(\"Eres un joven adulto.\")"
      ],
      "metadata": {
        "colab": {
          "base_uri": "https://localhost:8080/"
        },
        "id": "Zv_hWQXbALvz",
        "outputId": "b48fe3e6-c869-4940-e4b6-56bdbf5f4a91"
      },
      "execution_count": 17,
      "outputs": [
        {
          "output_type": "stream",
          "name": "stdout",
          "text": [
            "Eres un joven adulto.\n"
          ]
        }
      ]
    },
    {
      "cell_type": "code",
      "source": [
        "# For   for(int i = 1 ; i<10 ; i++)\n",
        "lim = 10 # <---\n",
        "for i in range(1, lim, 2):\n",
        "    print(i)\n",
        "\n",
        "print(range(1,5,1))"
      ],
      "metadata": {
        "colab": {
          "base_uri": "https://localhost:8080/"
        },
        "id": "LfMweSshA8hc",
        "outputId": "360ec138-86b1-4b50-b063-52805ad8aabd"
      },
      "execution_count": 25,
      "outputs": [
        {
          "output_type": "stream",
          "name": "stdout",
          "text": [
            "1\n",
            "3\n",
            "5\n",
            "7\n",
            "9\n",
            "range(1, 5)\n"
          ]
        }
      ]
    },
    {
      "cell_type": "code",
      "source": [
        "# for-each\n",
        "frutas = ['piña', 'pera', 'manzana', 'fresa', 'aguacate']\n",
        "for numero in frutas:\n",
        "    print(numero)\n",
        "\n",
        "    print(\"-------------\")\n",
        "    # break y continue\n",
        "    for numero in frutas:\n",
        "      if numero == \"manzana\":\n",
        "        break   # ó continue\n",
        "      print(numero)  # imprime la fruta\n",
        "    print('Fin')"
      ],
      "metadata": {
        "colab": {
          "base_uri": "https://localhost:8080/"
        },
        "id": "RReBcGreCQdL",
        "outputId": "80a341f6-d365-4cc6-fd2a-82fe5495bc25"
      },
      "execution_count": 31,
      "outputs": [
        {
          "output_type": "stream",
          "name": "stdout",
          "text": [
            "piña\n",
            "-------------\n",
            "piña\n",
            "pera\n",
            "Fin\n",
            "pera\n",
            "-------------\n",
            "piña\n",
            "pera\n",
            "Fin\n",
            "manzana\n",
            "-------------\n",
            "piña\n",
            "pera\n",
            "Fin\n",
            "fresa\n",
            "-------------\n",
            "piña\n",
            "pera\n",
            "Fin\n",
            "aguacate\n",
            "-------------\n",
            "piña\n",
            "pera\n",
            "Fin\n"
          ]
        }
      ]
    },
    {
      "cell_type": "code",
      "source": [
        "tam = 0\n",
        "while tam < 10:\n",
        "  print(tam)\n",
        "  tam = int(input(\"Dame un numero entero:\"))\n",
        "print(\"Final\")"
      ],
      "metadata": {
        "colab": {
          "base_uri": "https://localhost:8080/"
        },
        "id": "36dLXGavDars",
        "outputId": "4d8966ed-1e92-402e-a9f3-ac12b7eb4c3d"
      },
      "execution_count": 30,
      "outputs": [
        {
          "output_type": "stream",
          "name": "stdout",
          "text": [
            "0\n",
            "Dame un numero entero:3\n",
            "3\n",
            "Dame un numero entero:5\n",
            "5\n",
            "Dame un numero entero:11\n",
            "Final\n"
          ]
        }
      ]
    }
  ]
}